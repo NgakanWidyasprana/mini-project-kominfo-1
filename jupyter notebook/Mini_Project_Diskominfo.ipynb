{
  "nbformat": 4,
  "nbformat_minor": 0,
  "metadata": {
    "colab": {
      "provenance": [],
      "collapsed_sections": [
        "LFwZf6UsYTnm"
      ]
    },
    "kernelspec": {
      "name": "py38",
      "display_name": "Python 3.8"
    }
  },
  "cells": [
    {
      "cell_type": "code",
      "metadata": {
        "id": "H80WJWdPFLFL",
        "colab": {
          "base_uri": "https://localhost:8080/"
        },
        "outputId": "cf446fec-ef4c-4785-857f-2caba9631a32"
      },
      "source": [
        "!pip install -q streamlit pyngrok mysql-connector-python"
      ],
      "execution_count": 2,
      "outputs": [
        {
          "output_type": "stream",
          "name": "stdout",
          "text": [
            "\u001b[2K     \u001b[90m━━━━━━━━━━━━━━━━━━━━━━━━━━━━━━━━━━━━━━━━\u001b[0m \u001b[32m44.3/44.3 kB\u001b[0m \u001b[31m1.6 MB/s\u001b[0m eta \u001b[36m0:00:00\u001b[0m\n",
            "\u001b[2K   \u001b[90m━━━━━━━━━━━━━━━━━━━━━━━━━━━━━━━━━━━━━━━━\u001b[0m \u001b[32m9.9/9.9 MB\u001b[0m \u001b[31m54.8 MB/s\u001b[0m eta \u001b[36m0:00:00\u001b[0m\n",
            "\u001b[2K   \u001b[90m━━━━━━━━━━━━━━━━━━━━━━━━━━━━━━━━━━━━━━━━\u001b[0m \u001b[32m33.9/33.9 MB\u001b[0m \u001b[31m23.4 MB/s\u001b[0m eta \u001b[36m0:00:00\u001b[0m\n",
            "\u001b[2K   \u001b[90m━━━━━━━━━━━━━━━━━━━━━━━━━━━━━━━━━━━━━━━━\u001b[0m \u001b[32m6.9/6.9 MB\u001b[0m \u001b[31m107.5 MB/s\u001b[0m eta \u001b[36m0:00:00\u001b[0m\n",
            "\u001b[2K   \u001b[90m━━━━━━━━━━━━━━━━━━━━━━━━━━━━━━━━━━━━━━━━\u001b[0m \u001b[32m79.1/79.1 kB\u001b[0m \u001b[31m8.7 MB/s\u001b[0m eta \u001b[36m0:00:00\u001b[0m\n",
            "\u001b[?25h"
          ]
        }
      ]
    },
    {
      "cell_type": "code",
      "source": [
        "!ngrok authtoken 2qaPM3tRl12NtJ2mBMRp5QnQItc_6H7Du3N9UkuPCJcWs3UAt"
      ],
      "metadata": {
        "colab": {
          "base_uri": "https://localhost:8080/"
        },
        "id": "LEPUsUrDdEbN",
        "outputId": "7bb2fec9-c892-4ece-d083-46b48ff91263"
      },
      "execution_count": 3,
      "outputs": [
        {
          "output_type": "stream",
          "name": "stdout",
          "text": [
            "Authtoken saved to configuration file: /root/.config/ngrok/ngrok.yml\n"
          ]
        }
      ]
    },
    {
      "cell_type": "markdown",
      "source": [
        "# 🔥 **Testing Database**"
      ],
      "metadata": {
        "id": "LFwZf6UsYTnm"
      }
    },
    {
      "cell_type": "code",
      "source": [
        "import mysql.connector\n",
        "from mysql.connector import Error\n",
        "\n",
        "hostname = \"dh726.h.filess.io\"\n",
        "database = \"Testing_oxygenlove\"\n",
        "port = 61001  # This should be an integer\n",
        "username = \"Testing_oxygenlove\"\n",
        "password = \"7aa784e9040d7312bd35fcfe577ad9bdf7553593\"\n",
        "\n",
        "try:\n",
        "    connection = mysql.connector.connect(\n",
        "        host=hostname,\n",
        "        database=database,\n",
        "        user=username,\n",
        "        password=password,\n",
        "        port=port\n",
        "    )\n",
        "    if connection.is_connected():\n",
        "        print(\"✅ Connected to MySQL server\")\n",
        "        cursor = connection.cursor()\n",
        "        cursor.execute(\"SHOW TABLES;\")\n",
        "        tables = cursor.fetchall()\n",
        "        print(\"Tables in database:\", tables)\n",
        "\n",
        "except Error as e:\n",
        "    print(\"❌ Error connecting to MySQL:\", e)"
      ],
      "metadata": {
        "colab": {
          "base_uri": "https://localhost:8080/"
        },
        "id": "HYiDiyr8V29N",
        "outputId": "69621afa-b7ab-4b46-bed3-d97dae867871"
      },
      "execution_count": 4,
      "outputs": [
        {
          "output_type": "stream",
          "name": "stdout",
          "text": [
            "✅ Connected to MySQL server\n",
            "Tables in database: [('books',), ('transactions',), ('users',)]\n"
          ]
        }
      ]
    },
    {
      "cell_type": "code",
      "source": [
        "def get_connection():\n",
        "    return mysql.connector.connect(\n",
        "        host=\"dh726.h.filess.io\",\n",
        "        database=\"Testing_oxygenlove\",\n",
        "        user=\"Testing_oxygenlove\",\n",
        "        password=\"7aa784e9040d7312bd35fcfe577ad9bdf7553593\",\n",
        "        port=61001\n",
        "    )\n",
        "\n",
        "def check_constraint_name():\n",
        "    conn = get_connection()\n",
        "    cursor = conn.cursor()\n",
        "    cursor.execute(\"\"\"\n",
        "        SELECT CONSTRAINT_NAME\n",
        "        FROM information_schema.KEY_COLUMN_USAGE\n",
        "        WHERE TABLE_NAME = 'transactions' AND COLUMN_NAME = 'buku_id';\n",
        "    \"\"\")\n",
        "    for row in cursor.fetchall():\n",
        "        print(\"Found constraint:\", row[0])\n",
        "    cursor.close()\n",
        "    conn.close()\n",
        "\n",
        "check_constraint_name()"
      ],
      "metadata": {
        "colab": {
          "base_uri": "https://localhost:8080/"
        },
        "id": "ZVREC2qx2y85",
        "outputId": "8917bda0-7372-48a8-de81-1faa30967462"
      },
      "execution_count": 7,
      "outputs": [
        {
          "output_type": "stream",
          "name": "stdout",
          "text": [
            "Found constraint: fk_buku_id\n"
          ]
        }
      ]
    },
    {
      "cell_type": "code",
      "source": [
        "def show_transactions_for_book(book_id):\n",
        "    conn = get_connection()\n",
        "    cursor = conn.cursor()\n",
        "    cursor.execute(\"SELECT * FROM transactions WHERE buku_id = %s\", (book_id,))\n",
        "    rows = cursor.fetchall()\n",
        "    print(f\"Transactions for book ID {book_id}:\")\n",
        "    for row in rows:\n",
        "        print(row)\n",
        "    cursor.close()\n",
        "    conn.close()\n",
        "\n",
        "show_transactions_for_book(18829)"
      ],
      "metadata": {
        "colab": {
          "base_uri": "https://localhost:8080/"
        },
        "id": "p6jg8gKM3dwX",
        "outputId": "cd10073e-9c84-43c8-e9cb-99f55f5c7650"
      },
      "execution_count": 8,
      "outputs": [
        {
          "output_type": "stream",
          "name": "stdout",
          "text": [
            "Transactions for book ID 18829:\n",
            "(5, 18829, 2008561033, datetime.datetime(2025, 6, 2, 16, 39, 46), datetime.datetime(2025, 6, 2, 16, 53, 7))\n",
            "(7, 18829, 2008561055, datetime.datetime(2025, 6, 2, 16, 44, 56), datetime.datetime(2025, 6, 2, 16, 53, 59))\n",
            "(8, 18829, 2008561033, datetime.datetime(2025, 6, 2, 16, 54, 45), datetime.datetime(2025, 6, 2, 16, 55, 26))\n",
            "(9, 18829, 2008561055, datetime.datetime(2025, 6, 3, 0, 43, 38), datetime.datetime(2025, 6, 3, 0, 52, 25))\n",
            "(11, 18829, 2008561033, datetime.datetime(2025, 6, 4, 3, 28, 56), datetime.datetime(2025, 6, 4, 3, 39, 8))\n",
            "(14, 18829, 2008561033, datetime.datetime(2025, 6, 5, 1, 54, 59), datetime.datetime(2025, 6, 5, 1, 55, 19))\n",
            "(15, 18829, 2008561033, datetime.datetime(2025, 6, 5, 1, 57, 33), datetime.datetime(2025, 6, 5, 2, 1, 32))\n"
          ]
        }
      ]
    },
    {
      "cell_type": "markdown",
      "source": [
        "#🎯 **Real Project Using Streamlit**"
      ],
      "metadata": {
        "id": "tcgzH-h0Yhcc"
      }
    },
    {
      "cell_type": "code",
      "source": [
        "%%writefile dashboard.py\n",
        "\n",
        "import streamlit as st\n",
        "import mysql.connector\n",
        "import pandas as pd\n",
        "import mysql.connector\n",
        "from urllib.parse import quote\n",
        "import random\n",
        "import math\n",
        "\n",
        "# --- DB Connection ---\n",
        "def get_connection():\n",
        "    return mysql.connector.connect(\n",
        "        host=\"dh726.h.filess.io\",\n",
        "        database=\"Testing_oxygenlove\",\n",
        "        user=\"Testing_oxygenlove\",\n",
        "        password=\"7aa784e9040d7312bd35fcfe577ad9bdf7553593\",\n",
        "        port=61001\n",
        "    )\n",
        "\n",
        "def fetch_books():\n",
        "    conn = get_connection()\n",
        "    cursor = conn.cursor()\n",
        "    cursor.execute(\"SELECT * FROM books\")\n",
        "    rows = cursor.fetchall()\n",
        "    cols = [desc[0] for desc in cursor.description]\n",
        "    conn.close()\n",
        "    return pd.DataFrame(rows, columns=cols)\n",
        "\n",
        "def get_users():\n",
        "    conn = get_connection()\n",
        "    cursor = conn.cursor()\n",
        "    cursor.execute(\"SELECT * FROM users\")\n",
        "    rows = cursor.fetchall()\n",
        "    cols = [desc[0] for desc in cursor.description]\n",
        "    conn.close()\n",
        "    return pd.DataFrame(rows, columns=cols)\n",
        "\n",
        "@st.dialog(\"🏹 Add New Users\")\n",
        "def add_users():\n",
        "    name = st.text_input(\"Fullname: \")\n",
        "    user_id = st.text_input(\"User ID: \")\n",
        "    if st.button(\"Submit\"):\n",
        "        if name and user_id:\n",
        "            conn = get_connection()\n",
        "            cursor = conn.cursor()\n",
        "            cursor.execute(\"INSERT INTO users (id, nama) VALUES (%s, %s)\", (user_id, name))\n",
        "            conn.commit()\n",
        "            cursor.close()\n",
        "            conn.close()\n",
        "            st.toast(f\"User {name} with ID {user_id} success added!\", icon='🎉')\n",
        "            st.rerun()\n",
        "        else:\n",
        "            st.warning(\"Please fill out all fields.\")\n",
        "\n",
        "\n",
        "# --- Streamlit App ---\n",
        "st.title(\"📚 Library Borrow System\")\n",
        "\n",
        "# Add new books\n",
        "for key, default in {\n",
        "    \"show_add_form\": False,\n",
        "    \"form_submitted\": False,\n",
        "}.items():\n",
        "    if key not in st.session_state:\n",
        "        st.session_state[key] = default\n",
        "\n",
        "if st.session_state.form_submitted:\n",
        "    # Reset only control values\n",
        "    st.session_state.show_add_form = False\n",
        "    st.session_state.form_submitted = False\n",
        "\n",
        "    # Clear the input widgets by resetting Streamlit keys\n",
        "    st.session_state.new_book_id = \"\"\n",
        "    st.session_state.new_book_title = \"\"\n",
        "    st.session_state.new_book_author = \"\"\n",
        "    st.session_state.new_book_status = \"Available\"\n",
        "    st.rerun()\n",
        "\n",
        "with st.expander(\"➕ Add New Book\", expanded=st.session_state.show_add_form):\n",
        "\n",
        "    if not st.session_state.show_add_form:\n",
        "      st.session_state.show_add_form = True\n",
        "\n",
        "    new_book_id = st.text_input(\"Book ID\", key=\"book_id\")\n",
        "    new_book_title = st.text_input(\"Book Title\", key=\"book_title\")\n",
        "    new_book_author = st.text_input(\"Book Author\", key=\"book_author\")\n",
        "    book_status_options = [\"Available\", \"Borrowed\"]\n",
        "    new_book_status = st.selectbox(\n",
        "      \"Book Status\",\n",
        "      options=book_status_options,\n",
        "      index=book_status_options.index(st.session_state.get(\"book_status\", \"Available\")),\n",
        "      key=\"book_status\"\n",
        "    )\n",
        "\n",
        "    if st.button(\"Add Book\"):\n",
        "        if new_book_id and new_book_title and new_book_author:\n",
        "            status_value = 1 if new_book_status == \"Available\" else 0\n",
        "            conn = get_connection()\n",
        "            cursor = conn.cursor()\n",
        "            try:\n",
        "                cursor.execute(\n",
        "                    \"INSERT INTO books (id, judul, penulis, status) VALUES (%s, %s, %s, %s)\",\n",
        "                    (\n",
        "                        new_book_id,\n",
        "                        new_book_title,\n",
        "                        new_book_author,\n",
        "                        status_value,\n",
        "                    )\n",
        "                )\n",
        "                conn.commit()\n",
        "                st.success(f\"✅ Book '{new_book_title}' added successfully!\")\n",
        "\n",
        "                # Clear form state after successful submission\n",
        "                st.session_state.form_submitted = True\n",
        "                st.rerun()\n",
        "\n",
        "            except mysql.connector.Error as e:\n",
        "                st.error(f\"❌ Error adding book: {e}\")\n",
        "\n",
        "            cursor.close()\n",
        "            conn.close()\n",
        "        else:\n",
        "            st.warning(\"❌ Please fill in all fields.\")\n",
        "\n",
        "# View All Books\n",
        "st.header(\"📋 Book List\")\n",
        "books_df = fetch_books()\n",
        "books_df[\"status\"] = books_df[\"status\"].map({1: \"Available\", 0: \"Borrowed\"})\n",
        "\n",
        "if \"edit_id\" not in st.session_state:\n",
        "    st.session_state.edit_id = None\n",
        "\n",
        "for index, row in books_df.iterrows():\n",
        "    cols = st.columns([1.5, 3, 3, 2, 3, 3])\n",
        "\n",
        "    cols[0].write(row[\"id\"])\n",
        "    cols[1].write(row[\"judul\"])\n",
        "    cols[2].write(row[\"penulis\"])\n",
        "    cols[3].write(row[\"status\"])\n",
        "\n",
        "    if cols[4].button(\"🧺 Hapus\", key=f\"delete_{row['id']}\"):\n",
        "        conn = get_connection()\n",
        "        cursor = conn.cursor()\n",
        "\n",
        "        # Check if book is currently borrowed (status=0 or active transactions without return)\n",
        "        cursor.execute(\"SELECT COUNT(*) FROM transactions WHERE buku_id = %s\", (row['id'],))\n",
        "        active_borrow_count = cursor.fetchone()[0]\n",
        "\n",
        "        if active_borrow_count > 0:\n",
        "            st.warning(f\"⚠️ Cannot delete '{row['judul']}' because it has borrowing history!\")\n",
        "        else:\n",
        "            cursor.execute(\"DELETE FROM books WHERE id = %s\", (row['id'],))\n",
        "            conn.commit()\n",
        "            st.success(f\"✅ Book '{row['judul']}' deleted successfully!\")\n",
        "            st.rerun()\n",
        "\n",
        "        cursor.close()\n",
        "        conn.close()\n",
        "\n",
        "    if cols[5].button(\"✏️ Edit\", key=f\"edit_{row['id']}\"):\n",
        "        # Check if book is currently borrowed\n",
        "        conn = get_connection()\n",
        "        cursor = conn.cursor()\n",
        "        cursor.execute(\"SELECT COUNT(*) FROM transactions WHERE buku_id = %s AND tanggal_kembali IS NULL\", (row['id'],))\n",
        "        active_borrow_count = cursor.fetchone()[0]\n",
        "        cursor.close()\n",
        "        conn.close()\n",
        "\n",
        "        if active_borrow_count > 0:\n",
        "            st.warning(f\"⚠️ Cannot edit '{row['judul']}' because it is currently borrowed!\")\n",
        "        else:\n",
        "            st.session_state.edit_id = row[\"id\"]\n",
        "\n",
        "        cursor.close()\n",
        "        conn.close()\n",
        "\n",
        "    if st.session_state.edit_id == row[\"id\"]:\n",
        "        st.subheader(f\"✏️ Editing Book ID: {row['id']}\")\n",
        "        new_title = st.text_input(\"New Title\", value=row[\"judul\"], key=f\"title_{row['id']}\")\n",
        "        new_author = st.text_input(\"New Author\", value=row[\"penulis\"], key=f\"author_{row['id']}\")\n",
        "\n",
        "        if st.button(\"💾 Save Changes\", key=f\"save_{row['id']}\"):\n",
        "            conn = get_connection()\n",
        "            cursor = conn.cursor()\n",
        "            cursor.execute(\"UPDATE books SET judul = %s, penulis = %s WHERE id = %s\", (new_title, new_author, row[\"id\"]))\n",
        "            conn.commit()\n",
        "            cursor.close()\n",
        "            conn.close()\n",
        "            st.success(f\"✅ Book '{new_title}' updated successfully!\")\n",
        "            st.session_state.edit_id = None\n",
        "            st.rerun()\n",
        "\n",
        "# Users Actions Example\n",
        "st.header(\"🤼 Users Example\")\n",
        "users_df = get_users()\n",
        "default_icon = \"💂🏻‍♀️\"\n",
        "users_df[\"icon\"] = default_icon\n",
        "users_df[\"display\"] = users_df[\"icon\"] + \" \" + users_df[\"nama\"]\n",
        "\n",
        "# Init session state\n",
        "if \"selected_user_id\" not in st.session_state:\n",
        "    st.session_state.selected_user_id = None\n",
        "if \"selected_user_display\" not in st.session_state:\n",
        "    st.session_state.selected_user_display = \"\"\n",
        "if \"show_add_form_2\" not in st.session_state:\n",
        "    st.session_state.show_add_form_2 = False\n",
        "\n",
        "# Layout users + add user button\n",
        "num_columns = 3\n",
        "total_buttons = len(users_df) + 1\n",
        "num_rows = math.ceil(total_buttons / num_columns)\n",
        "\n",
        "user_index = 0\n",
        "for row_num in range(num_rows):\n",
        "    cols = st.columns(num_columns)\n",
        "    for col_num in range(num_columns):\n",
        "        if user_index < len(users_df):\n",
        "            row = users_df.iloc[user_index]\n",
        "            with cols[col_num]:\n",
        "                if st.button(row[\"display\"], key=f\"user_{row['id']}\"):\n",
        "                    st.session_state.selected_user_id = row.id\n",
        "                    st.session_state.selected_user_display = row.display\n",
        "            user_index += 1\n",
        "        elif user_index == len(users_df):\n",
        "            with cols[col_num]:\n",
        "                if st.button(\"➕ Add User\", key=\"show_add_user_btn\"):\n",
        "                    st.session_state.show_add_form = True\n",
        "            user_index += 1\n",
        "\n",
        "# Add Users Form\n",
        "if st.session_state.show_add_form_2:\n",
        "    add_users()\n",
        "    st.session_state.show_add_form_2 = False\n",
        "\n",
        "if st.session_state.selected_user_id:\n",
        "    st.write(f\"👤 Selected user: {st.session_state.selected_user_display}\")\n",
        "    user_id = int(st.session_state.selected_user_id)\n",
        "\n",
        "    conn = get_connection()\n",
        "    cursor = conn.cursor()\n",
        "\n",
        "    tab1, tab2 = st.tabs([\"📤 Return Book\", \"📥 Borrow Book\"])\n",
        "\n",
        "    with tab1:\n",
        "        cursor.execute(\"\"\"\n",
        "            SELECT b.id, b.judul FROM books b\n",
        "            JOIN transactions t ON b.id = t.buku_id\n",
        "            WHERE t.user_id = %s AND t.tanggal_kembali IS NULL\n",
        "        \"\"\", (user_id,))\n",
        "        borrowed_books = cursor.fetchall()\n",
        "\n",
        "        if borrowed_books:\n",
        "            selected_return = st.selectbox(\"Select a book to return:\", borrowed_books, format_func=lambda x: x[1])\n",
        "\n",
        "            if st.button(\"🔄 Confirm Return\", key=\"confirm_return\", disabled=selected_return is None):\n",
        "                cursor.execute(\"\"\"\n",
        "                    UPDATE transactions\n",
        "                    SET tanggal_kembali = NOW()\n",
        "                    WHERE buku_id = %s AND user_id = %s AND tanggal_kembali IS NULL\n",
        "                \"\"\", (selected_return[0], user_id))\n",
        "                cursor.execute(\"UPDATE books SET status = 1 WHERE id = %s\", (selected_return[0],))\n",
        "                conn.commit()\n",
        "                st.success(f\"✅ Book '{selected_return[1]}' returned successfully!\")\n",
        "                st.session_state.selected_user_id = None\n",
        "                st.rerun()\n",
        "        else:\n",
        "            st.info(\"📚 No borrowed books to return.\")\n",
        "\n",
        "    with tab2:\n",
        "        cursor.execute(\"SELECT id, judul FROM books WHERE status = 1\")\n",
        "        available_books = cursor.fetchall()\n",
        "\n",
        "        if available_books:\n",
        "            selected_borrow = st.selectbox(\"Select a book to borrow:\", available_books, format_func=lambda x: x[1])\n",
        "\n",
        "            if st.button(\"📩 Confirm Borrow\", key=\"confirm_borrow\", disabled=selected_borrow is None):\n",
        "                cursor.execute(\"\"\"\n",
        "                    INSERT INTO transactions (buku_id, user_id, tanggal_pinjam)\n",
        "                    VALUES (%s, %s, NOW())\n",
        "                \"\"\", (selected_borrow[0], user_id))\n",
        "                cursor.execute(\"UPDATE books SET status = 0 WHERE id = %s\", (selected_borrow[0],))\n",
        "                conn.commit()\n",
        "                st.success(f\"✅ Book '{selected_borrow[1]}' borrowed successfully!\")\n",
        "                st.session_state.selected_user_id = None\n",
        "                st.rerun()\n",
        "        else:\n",
        "            st.warning(\"❌ No books available for borrowing.\")\n",
        "\n",
        "    cursor.close()\n",
        "    conn.close()"
      ],
      "metadata": {
        "colab": {
          "base_uri": "https://localhost:8080/"
        },
        "id": "uVElLc0WYo3G",
        "outputId": "5273a80e-9d3f-4852-d3f1-955632835121"
      },
      "execution_count": 9,
      "outputs": [
        {
          "output_type": "stream",
          "name": "stdout",
          "text": [
            "Overwriting dashboard.py\n"
          ]
        }
      ]
    },
    {
      "cell_type": "code",
      "source": [
        "from pyngrok import ngrok\n",
        "import subprocess\n",
        "import time\n",
        "import os\n",
        "\n",
        "# Kill any previous tunnels\n",
        "ngrok.kill()\n",
        "\n",
        "# Set port\n",
        "port = 8501\n",
        "\n",
        "# Start Streamlit server in background\n",
        "print(\"Starting Streamlit server...\")\n",
        "process = subprocess.Popen([\"streamlit\", \"run\", \"dashboard.py\", \"--server.port\", str(port)])\n",
        "\n",
        "# Wait to give Streamlit time to start\n",
        "time.sleep(10)\n",
        "\n",
        "# Open ngrok tunnel\n",
        "print(\"Starting ngrok tunnel...\")\n",
        "public_url = ngrok.connect(port, \"http\").public_url\n",
        "print(\"✅ Streamlit is live at:\", public_url)"
      ],
      "metadata": {
        "colab": {
          "base_uri": "https://localhost:8080/"
        },
        "id": "0B6KQbBzbcNl",
        "outputId": "ce64c710-1e2d-40a6-b825-3fda2ba4f651"
      },
      "execution_count": 5,
      "outputs": [
        {
          "output_type": "stream",
          "name": "stdout",
          "text": [
            "Starting Streamlit server...\n",
            "Starting ngrok tunnel...\n",
            "✅ Streamlit is live at: https://edce-34-106-97-131.ngrok-free.app\n"
          ]
        }
      ]
    },
    {
      "cell_type": "code",
      "source": [
        "!ps aux | grep ngrok"
      ],
      "metadata": {
        "colab": {
          "base_uri": "https://localhost:8080/"
        },
        "id": "RqpZJmlnbzw3",
        "outputId": "769cd0da-d1b6-40a7-fb43-d5a996fcdf4c"
      },
      "execution_count": null,
      "outputs": [
        {
          "output_type": "stream",
          "name": "stdout",
          "text": [
            "root         830  0.8  0.2 1254568 31644 ?       Sl   14:24   0:00 /root/.config/ngrok/ngrok start --none --log stdout\n",
            "root        1025  0.0  0.0   7376  3536 ?        S    14:25   0:00 /bin/bash -c ps aux | grep ngrok\n",
            "root        1027  0.0  0.0   6484  2304 ?        S    14:25   0:00 grep ngrok\n"
          ]
        }
      ]
    },
    {
      "cell_type": "code",
      "source": [
        "ngrok.kill()\n",
        "!ps aux | grep ngrok"
      ],
      "metadata": {
        "colab": {
          "base_uri": "https://localhost:8080/"
        },
        "id": "OLEeVSlEcaau",
        "outputId": "1666ea7f-3ed9-450e-8279-ac05df8e7e6f"
      },
      "execution_count": null,
      "outputs": [
        {
          "output_type": "stream",
          "name": "stdout",
          "text": [
            "root        1044  0.0  0.0   7376  3588 ?        S    14:25   0:00 /bin/bash -c ps aux | grep ngrok\n",
            "root        1046  0.0  0.0   6484  2356 ?        S    14:25   0:00 grep ngrok\n"
          ]
        }
      ]
    }
  ]
}